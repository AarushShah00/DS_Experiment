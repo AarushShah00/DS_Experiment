{
  "nbformat": 4,
  "nbformat_minor": 0,
  "metadata": {
    "colab": {
      "provenance": [],
      "authorship_tag": "ABX9TyP8LVoNWfKI3LYcF2SYfhmh",
      "include_colab_link": true
    },
    "kernelspec": {
      "name": "python3",
      "display_name": "Python 3"
    },
    "language_info": {
      "name": "python"
    }
  },
  "cells": [
    {
      "cell_type": "markdown",
      "metadata": {
        "id": "view-in-github",
        "colab_type": "text"
      },
      "source": [
        "<a href=\"https://colab.research.google.com/github/AarushShah00/DS_Experiment/blob/main/DS_FINAL_LCA_3_AarushShah_TY_AI%26DS_Roll_No_08.ipynb\" target=\"_parent\"><img src=\"https://colab.research.google.com/assets/colab-badge.svg\" alt=\"Open In Colab\"/></a>"
      ]
    },
    {
      "cell_type": "markdown",
      "source": [
        "#Fundamentals Of Data Science With Python [Final LCA-3]"
      ],
      "metadata": {
        "id": "3jrz13piVR-r"
      }
    },
    {
      "cell_type": "markdown",
      "source": [
        "**The Main Cell Through Which All DataSet CSV Files Are Imported.**"
      ],
      "metadata": {
        "id": "fr7ugjkFVZIO"
      }
    },
    {
      "cell_type": "code",
      "source": [
        "from google.colab import files\n",
        "\n",
        "uploaded = files.upload()\n"
      ],
      "metadata": {
        "colab": {
          "base_uri": "https://localhost:8080/",
          "height": 71
        },
        "id": "35P1BwlGVanQ",
        "outputId": "1999abc0-d426-429a-962d-2205cde7e7c0"
      },
      "execution_count": 1,
      "outputs": [
        {
          "output_type": "display_data",
          "data": {
            "text/plain": [
              "<IPython.core.display.HTML object>"
            ],
            "text/html": [
              "\n",
              "     <input type=\"file\" id=\"files-1ad43e11-cf1b-4a26-af58-4125708662bf\" name=\"files[]\" multiple disabled\n",
              "        style=\"border:none\" />\n",
              "     <output id=\"result-1ad43e11-cf1b-4a26-af58-4125708662bf\">\n",
              "      Upload widget is only available when the cell has been executed in the\n",
              "      current browser session. Please rerun this cell to enable.\n",
              "      </output>\n",
              "      <script>// Copyright 2017 Google LLC\n",
              "//\n",
              "// Licensed under the Apache License, Version 2.0 (the \"License\");\n",
              "// you may not use this file except in compliance with the License.\n",
              "// You may obtain a copy of the License at\n",
              "//\n",
              "//      http://www.apache.org/licenses/LICENSE-2.0\n",
              "//\n",
              "// Unless required by applicable law or agreed to in writing, software\n",
              "// distributed under the License is distributed on an \"AS IS\" BASIS,\n",
              "// WITHOUT WARRANTIES OR CONDITIONS OF ANY KIND, either express or implied.\n",
              "// See the License for the specific language governing permissions and\n",
              "// limitations under the License.\n",
              "\n",
              "/**\n",
              " * @fileoverview Helpers for google.colab Python module.\n",
              " */\n",
              "(function(scope) {\n",
              "function span(text, styleAttributes = {}) {\n",
              "  const element = document.createElement('span');\n",
              "  element.textContent = text;\n",
              "  for (const key of Object.keys(styleAttributes)) {\n",
              "    element.style[key] = styleAttributes[key];\n",
              "  }\n",
              "  return element;\n",
              "}\n",
              "\n",
              "// Max number of bytes which will be uploaded at a time.\n",
              "const MAX_PAYLOAD_SIZE = 100 * 1024;\n",
              "\n",
              "function _uploadFiles(inputId, outputId) {\n",
              "  const steps = uploadFilesStep(inputId, outputId);\n",
              "  const outputElement = document.getElementById(outputId);\n",
              "  // Cache steps on the outputElement to make it available for the next call\n",
              "  // to uploadFilesContinue from Python.\n",
              "  outputElement.steps = steps;\n",
              "\n",
              "  return _uploadFilesContinue(outputId);\n",
              "}\n",
              "\n",
              "// This is roughly an async generator (not supported in the browser yet),\n",
              "// where there are multiple asynchronous steps and the Python side is going\n",
              "// to poll for completion of each step.\n",
              "// This uses a Promise to block the python side on completion of each step,\n",
              "// then passes the result of the previous step as the input to the next step.\n",
              "function _uploadFilesContinue(outputId) {\n",
              "  const outputElement = document.getElementById(outputId);\n",
              "  const steps = outputElement.steps;\n",
              "\n",
              "  const next = steps.next(outputElement.lastPromiseValue);\n",
              "  return Promise.resolve(next.value.promise).then((value) => {\n",
              "    // Cache the last promise value to make it available to the next\n",
              "    // step of the generator.\n",
              "    outputElement.lastPromiseValue = value;\n",
              "    return next.value.response;\n",
              "  });\n",
              "}\n",
              "\n",
              "/**\n",
              " * Generator function which is called between each async step of the upload\n",
              " * process.\n",
              " * @param {string} inputId Element ID of the input file picker element.\n",
              " * @param {string} outputId Element ID of the output display.\n",
              " * @return {!Iterable<!Object>} Iterable of next steps.\n",
              " */\n",
              "function* uploadFilesStep(inputId, outputId) {\n",
              "  const inputElement = document.getElementById(inputId);\n",
              "  inputElement.disabled = false;\n",
              "\n",
              "  const outputElement = document.getElementById(outputId);\n",
              "  outputElement.innerHTML = '';\n",
              "\n",
              "  const pickedPromise = new Promise((resolve) => {\n",
              "    inputElement.addEventListener('change', (e) => {\n",
              "      resolve(e.target.files);\n",
              "    });\n",
              "  });\n",
              "\n",
              "  const cancel = document.createElement('button');\n",
              "  inputElement.parentElement.appendChild(cancel);\n",
              "  cancel.textContent = 'Cancel upload';\n",
              "  const cancelPromise = new Promise((resolve) => {\n",
              "    cancel.onclick = () => {\n",
              "      resolve(null);\n",
              "    };\n",
              "  });\n",
              "\n",
              "  // Wait for the user to pick the files.\n",
              "  const files = yield {\n",
              "    promise: Promise.race([pickedPromise, cancelPromise]),\n",
              "    response: {\n",
              "      action: 'starting',\n",
              "    }\n",
              "  };\n",
              "\n",
              "  cancel.remove();\n",
              "\n",
              "  // Disable the input element since further picks are not allowed.\n",
              "  inputElement.disabled = true;\n",
              "\n",
              "  if (!files) {\n",
              "    return {\n",
              "      response: {\n",
              "        action: 'complete',\n",
              "      }\n",
              "    };\n",
              "  }\n",
              "\n",
              "  for (const file of files) {\n",
              "    const li = document.createElement('li');\n",
              "    li.append(span(file.name, {fontWeight: 'bold'}));\n",
              "    li.append(span(\n",
              "        `(${file.type || 'n/a'}) - ${file.size} bytes, ` +\n",
              "        `last modified: ${\n",
              "            file.lastModifiedDate ? file.lastModifiedDate.toLocaleDateString() :\n",
              "                                    'n/a'} - `));\n",
              "    const percent = span('0% done');\n",
              "    li.appendChild(percent);\n",
              "\n",
              "    outputElement.appendChild(li);\n",
              "\n",
              "    const fileDataPromise = new Promise((resolve) => {\n",
              "      const reader = new FileReader();\n",
              "      reader.onload = (e) => {\n",
              "        resolve(e.target.result);\n",
              "      };\n",
              "      reader.readAsArrayBuffer(file);\n",
              "    });\n",
              "    // Wait for the data to be ready.\n",
              "    let fileData = yield {\n",
              "      promise: fileDataPromise,\n",
              "      response: {\n",
              "        action: 'continue',\n",
              "      }\n",
              "    };\n",
              "\n",
              "    // Use a chunked sending to avoid message size limits. See b/62115660.\n",
              "    let position = 0;\n",
              "    do {\n",
              "      const length = Math.min(fileData.byteLength - position, MAX_PAYLOAD_SIZE);\n",
              "      const chunk = new Uint8Array(fileData, position, length);\n",
              "      position += length;\n",
              "\n",
              "      const base64 = btoa(String.fromCharCode.apply(null, chunk));\n",
              "      yield {\n",
              "        response: {\n",
              "          action: 'append',\n",
              "          file: file.name,\n",
              "          data: base64,\n",
              "        },\n",
              "      };\n",
              "\n",
              "      let percentDone = fileData.byteLength === 0 ?\n",
              "          100 :\n",
              "          Math.round((position / fileData.byteLength) * 100);\n",
              "      percent.textContent = `${percentDone}% done`;\n",
              "\n",
              "    } while (position < fileData.byteLength);\n",
              "  }\n",
              "\n",
              "  // All done.\n",
              "  yield {\n",
              "    response: {\n",
              "      action: 'complete',\n",
              "    }\n",
              "  };\n",
              "}\n",
              "\n",
              "scope.google = scope.google || {};\n",
              "scope.google.colab = scope.google.colab || {};\n",
              "scope.google.colab._files = {\n",
              "  _uploadFiles,\n",
              "  _uploadFilesContinue,\n",
              "};\n",
              "})(self);\n",
              "</script> "
            ]
          },
          "metadata": {}
        },
        {
          "output_type": "stream",
          "name": "stdout",
          "text": [
            "Saving wine-new.csv to wine-new.csv\n"
          ]
        }
      ]
    },
    {
      "cell_type": "markdown",
      "source": [
        "**All The Needed Libraries Are Imported Respectively.**"
      ],
      "metadata": {
        "id": "z-L3QmUZedhj"
      }
    },
    {
      "cell_type": "code",
      "source": [
        "# Import libraries\n",
        "import pandas as pd\n",
        "import numpy as np\n",
        "from sklearn.model_selection import RepeatedKFold, cross_val_score\n",
        "from sklearn.linear_model import LinearRegression\n",
        "from sklearn.tree import DecisionTreeRegressor\n",
        "from sklearn.metrics import mean_squared_error"
      ],
      "metadata": {
        "id": "c32GlIzRWkl2"
      },
      "execution_count": 2,
      "outputs": []
    },
    {
      "cell_type": "markdown",
      "source": [
        "Data Preprocessing and Handling Null Values"
      ],
      "metadata": {
        "id": "sq5qYaqWdcXX"
      }
    },
    {
      "cell_type": "code",
      "source": [
        "df1 = pd.read_csv('wine-new.csv')  # Use your uploaded file name\n",
        "print(df1.head())  # To verify the data"
      ],
      "metadata": {
        "colab": {
          "base_uri": "https://localhost:8080/"
        },
        "id": "5YxTo0e5WrW1",
        "outputId": "faa594ed-6fe5-4c87-ac26-4f53752a68d2"
      },
      "execution_count": 4,
      "outputs": [
        {
          "output_type": "stream",
          "name": "stdout",
          "text": [
            "   class  alcohol   malic_acid   ash   alcalinity_of_ash   magnesium  \\\n",
            "0      1    14.23         1.71  2.43                15.6       127.0   \n",
            "1      1    13.20         1.78  2.14                11.2       100.0   \n",
            "2      1    13.16         2.36  2.67                18.6       101.0   \n",
            "3      1    14.37         1.95  2.50                16.8       113.0   \n",
            "4      1    13.24         2.59  2.87                21.0       118.0   \n",
            "\n",
            "    total_phenols   flavanoids   nonflavanoid_phenols   proanthocyanins  \\\n",
            "0            2.80         3.06                   0.28              2.29   \n",
            "1            2.65         2.76                   0.26              1.28   \n",
            "2            2.80         3.24                   0.30              2.81   \n",
            "3            3.85         3.49                   0.24              2.18   \n",
            "4            2.80         2.69                   0.39              1.82   \n",
            "\n",
            "    color_intensity   hue   od280/od315_of_diluted_wines   proline  \n",
            "0              5.64  1.04                           3.92      1065  \n",
            "1              4.38  1.05                           3.40      1050  \n",
            "2              5.68  1.03                           3.17      1185  \n",
            "3              7.80  0.86                           3.45      1480  \n",
            "4              4.32  1.04                           2.93       735  \n"
          ]
        }
      ]
    },
    {
      "cell_type": "code",
      "source": [
        "df1.info()"
      ],
      "metadata": {
        "colab": {
          "base_uri": "https://localhost:8080/"
        },
        "id": "K9Hs2WGUcXCn",
        "outputId": "c4994b88-cce2-44a4-9805-69563a1273fd"
      },
      "execution_count": 19,
      "outputs": [
        {
          "output_type": "stream",
          "name": "stdout",
          "text": [
            "<class 'pandas.core.frame.DataFrame'>\n",
            "RangeIndex: 178 entries, 0 to 177\n",
            "Data columns (total 14 columns):\n",
            " #   Column                         Non-Null Count  Dtype  \n",
            "---  ------                         --------------  -----  \n",
            " 0   class                          178 non-null    int64  \n",
            " 1   alcohol                        178 non-null    float64\n",
            " 2    malic_acid                    178 non-null    float64\n",
            " 3    ash                           178 non-null    float64\n",
            " 4    alcalinity_of_ash             178 non-null    float64\n",
            " 5    magnesium                     178 non-null    float64\n",
            " 6    total_phenols                 178 non-null    float64\n",
            " 7    flavanoids                    178 non-null    float64\n",
            " 8    nonflavanoid_phenols          178 non-null    float64\n",
            " 9    proanthocyanins               178 non-null    float64\n",
            " 10   color_intensity               178 non-null    float64\n",
            " 11   hue                           178 non-null    float64\n",
            " 12   od280/od315_of_diluted_wines  178 non-null    float64\n",
            " 13   proline                       178 non-null    int64  \n",
            "dtypes: float64(12), int64(2)\n",
            "memory usage: 19.6 KB\n"
          ]
        }
      ]
    },
    {
      "cell_type": "markdown",
      "source": [
        "Cell 2: Defining Features (X) and Target (y)\n",
        "Description:\n",
        "Here, we define the feature matrix (X) by excluding the target column. The target variable (y) is set to the column we wish to predict (e.g., wine quality, type, or class). This step is essential for preparing the data before model training."
      ],
      "metadata": {
        "id": "Wl9ffeS0dnJz"
      }
    },
    {
      "cell_type": "code",
      "source": [
        "# Step 2: Data preprocessing\n",
        "# Replace null values with the mean of their respective columns\n",
        "df1.fillna(df1.mean(), inplace=True)"
      ],
      "metadata": {
        "id": "sc51L-ulWvvj"
      },
      "execution_count": 6,
      "outputs": []
    },
    {
      "cell_type": "markdown",
      "source": [
        "Cell 3: Setting up Repeated K-Fold Cross-Validation (CV)\n",
        "Description:\n",
        "In this step, we set up a Repeated K-Fold Cross-Validation (CV) technique. The data is split into 10 folds, and the process is repeated 3 times. This ensures robust validation of the models by averaging their performance over multiple splits.\n",
        "\n"
      ],
      "metadata": {
        "id": "aD2jr3SOeBex"
      }
    },
    {
      "cell_type": "code",
      "source": [
        "# Step 2: Define features (X) and target (y)\n",
        "try:\n",
        "    target_column = 'class'  # Replace with the actual target column name\n",
        "    X = df1.drop(target_column, axis=1)\n",
        "    y = df1[target_column]\n",
        "    print(\"Step 2: Features (X) and target (y) successfully defined.\")\n",
        "    print(f\"Features shape: {X.shape}\")\n",
        "    print(f\"Target shape: {y.shape}\")\n",
        "except KeyError as e:\n",
        "    print(f\"Error: {e}. Please check the column name for the target.\")"
      ],
      "metadata": {
        "colab": {
          "base_uri": "https://localhost:8080/"
        },
        "id": "Kto-QyzrW2fW",
        "outputId": "f8bda93a-abf0-4289-f5d5-5bf2c53a37c8"
      },
      "execution_count": 20,
      "outputs": [
        {
          "output_type": "stream",
          "name": "stdout",
          "text": [
            "Step 2: Features (X) and target (y) successfully defined.\n",
            "Features shape: (178, 13)\n",
            "Target shape: (178,)\n"
          ]
        }
      ]
    },
    {
      "cell_type": "code",
      "source": [
        "# Step 3: REF CV setup\n",
        "ref_cv = RepeatedKFold(n_splits=10, n_repeats=3, random_state=42)\n",
        "print(\"Step 3: Repeated K-Fold CV setup complete.\")"
      ],
      "metadata": {
        "colab": {
          "base_uri": "https://localhost:8080/"
        },
        "id": "Nh4OoJq8W7FI",
        "outputId": "86931543-c3ea-4559-82b3-fa8c0b57326d"
      },
      "execution_count": 21,
      "outputs": [
        {
          "output_type": "stream",
          "name": "stdout",
          "text": [
            "Step 3: Repeated K-Fold CV setup complete.\n"
          ]
        }
      ]
    },
    {
      "cell_type": "markdown",
      "source": [
        "Cell 4: Training Linear Regression and Decision Tree Models\n",
        "Description:\n",
        "This cell trains two machine learning models: a Linear Regression model and a Decision Tree model. Each model is evaluated using cross-validation to measure their performance using the Mean Squared Error (MSE). The MSE is calculated as a negative score to match the scoring conventions in cross_val_score, and then negated for proper comparison."
      ],
      "metadata": {
        "id": "fjlnARvBeK21"
      }
    },
    {
      "cell_type": "code",
      "source": [
        "# Step 4: Train Linear Regression Model\n",
        "lr_model = LinearRegression()\n",
        "lr_scores = cross_val_score(lr_model, X, y, scoring='neg_mean_squared_error', cv=ref_cv)\n",
        "lr_mse = -np.mean(lr_scores)\n",
        "print(\"Step 4.1: Linear Regression training complete.\")"
      ],
      "metadata": {
        "colab": {
          "base_uri": "https://localhost:8080/"
        },
        "id": "XDDLUs_4XBnt",
        "outputId": "7d5d3f8a-74ed-4b3b-c9ef-cb8aab87d823"
      },
      "execution_count": 22,
      "outputs": [
        {
          "output_type": "stream",
          "name": "stdout",
          "text": [
            "Step 4.1: Linear Regression training complete.\n"
          ]
        }
      ]
    },
    {
      "cell_type": "code",
      "source": [
        "# Train Decision Tree Model\n",
        "dt_model = DecisionTreeRegressor(random_state=42)\n",
        "dt_scores = cross_val_score(dt_model, X, y, scoring='neg_mean_squared_error', cv=ref_cv)\n",
        "dt_mse = -np.mean(dt_scores)\n",
        "print(\"Step 4.2: Decision Tree training complete.\")"
      ],
      "metadata": {
        "colab": {
          "base_uri": "https://localhost:8080/"
        },
        "id": "-6IXgZSEXFA7",
        "outputId": "d12eaa99-16c9-4e39-bbcf-4a553f27281b"
      },
      "execution_count": 23,
      "outputs": [
        {
          "output_type": "stream",
          "name": "stdout",
          "text": [
            "Step 4.2: Decision Tree training complete.\n"
          ]
        }
      ]
    },
    {
      "cell_type": "markdown",
      "source": [
        "Cell 5: Output Final Results\n",
        "Description:\n",
        "In this step, the performance of both models (Linear Regression and Decision Tree) is displayed by printing the Mean Squared Error (MSE) for each model. This allows for a comparison of their predictive power."
      ],
      "metadata": {
        "id": "QHzuMxdHeVE2"
      }
    },
    {
      "cell_type": "code",
      "source": [
        "# Step 5: Output Results\n",
        "print(\"\\nFinal Results:\")\n",
        "print(f\"Linear Regression MSE: {lr_mse}\")\n",
        "print(f\"Decision Tree MSE: {dt_mse}\")"
      ],
      "metadata": {
        "colab": {
          "base_uri": "https://localhost:8080/"
        },
        "id": "i6wFrl9QdFQj",
        "outputId": "4f5e7c18-cf68-4189-9d09-45128496cbde"
      },
      "execution_count": 24,
      "outputs": [
        {
          "output_type": "stream",
          "name": "stdout",
          "text": [
            "\n",
            "Final Results:\n",
            "Linear Regression MSE: 0.07862596587283978\n",
            "Decision Tree MSE: 0.08246187363834422\n"
          ]
        }
      ]
    }
  ]
}